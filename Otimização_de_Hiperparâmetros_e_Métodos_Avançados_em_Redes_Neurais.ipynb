{
  "nbformat": 4,
  "nbformat_minor": 0,
  "metadata": {
    "colab": {
      "provenance": []
    },
    "kernelspec": {
      "name": "python3",
      "display_name": "Python 3"
    },
    "language_info": {
      "name": "python"
    }
  },
  "cells": [
    {
      "cell_type": "markdown",
      "source": [
        "**1. Introdução ao Objetivo**"
      ],
      "metadata": {
        "id": "TS01HtFKBsI9"
      }
    },
    {
      "cell_type": "code",
      "execution_count": null,
      "metadata": {
        "id": "42cX2sxFW7-t"
      },
      "outputs": [],
      "source": [
        "import numpy as np\n",
        "import pandas as pd\n",
        "from sklearn.model_selection import train_test_split\n",
        "from sklearn.preprocessing import StandardScaler"
      ]
    },
    {
      "cell_type": "markdown",
      "source": [
        "2. Geração de Dados"
      ],
      "metadata": {
        "id": "JvFr_EvFBviM"
      }
    },
    {
      "cell_type": "code",
      "source": [
        "# Gerar expressões\n",
        "np.random.seed(42)\n",
        "\n",
        "def gerar_operacoes(n=1000):\n",
        "    operacoes = []\n",
        "    resultados = []\n",
        "    simbolos = ['+', '-', '*', '/']\n",
        "\n",
        "    for _ in range(n):\n",
        "        x1 = np.round(np.random.uniform(0, 100), 2)\n",
        "        x2 = np.round(np.random.uniform(0.1, 100), 2)  # evitar divisão por zero\n",
        "        op = np.random.choice(simbolos)\n",
        "\n",
        "        expr = f\"{x1} {op} {x2}\"\n",
        "        try:\n",
        "            resultado = eval(expr)\n",
        "        except:\n",
        "            resultado = np.nan\n",
        "\n",
        "        operacoes.append((x1, x2, op))\n",
        "        resultados.append(resultado)\n",
        "\n",
        "    return pd.DataFrame(operacoes, columns=['x1', 'x2', 'op']), np.array(resultados)"
      ],
      "metadata": {
        "id": "V_ZcoaPwcpWf"
      },
      "execution_count": null,
      "outputs": []
    },
    {
      "cell_type": "markdown",
      "source": [
        "3. Pré-processamento"
      ],
      "metadata": {
        "id": "gcUeANV9B2MB"
      }
    },
    {
      "cell_type": "code",
      "source": [
        "# Gerar os dados\n",
        "X_raw, y_raw = gerar_operacoes(2000)\n",
        "\n",
        "# Remover divisões por zero ou resultados inválidos\n",
        "mask_validos = ~np.isnan(y_raw)\n",
        "X_raw = X_raw[mask_validos]\n",
        "y_raw = y_raw[mask_validos]\n",
        "\n",
        "# Codificar operações\n",
        "op_map = {'+': 0, '-': 1, '*': 2, '/': 3}\n",
        "X_raw['op'] = X_raw['op'].map(op_map).astype(int)\n",
        "\n",
        "# Convertendo para numpy array\n",
        "X = X_raw.to_numpy().astype(float)\n",
        "y = y_raw[mask_validos]\n",
        "\n",
        "# Divisão treino/validação/teste\n",
        "X_train, X_temp, y_train, y_temp = train_test_split(X, y, test_size=0.4, random_state=42)\n",
        "X_val, X_test, y_val, y_test   = train_test_split(X_temp, y_temp, test_size=0.5, random_state=42)"
      ],
      "metadata": {
        "id": "7ucBL6ekcvIY"
      },
      "execution_count": null,
      "outputs": []
    },
    {
      "cell_type": "code",
      "source": [
        "# Normalização dos dados\n",
        "scaler = StandardScaler()\n",
        "X_train_scaled = scaler.fit_transform(X_train)\n",
        "X_val_scaled   = scaler.transform(X_val)\n",
        "X_test_scaled  = scaler.transform(X_test)\n",
        "\n",
        "print(\"Conjuntos gerados:\")\n",
        "print(f\"Treino:     {X_train.shape}\")\n",
        "print(f\"Validação:  {X_val.shape}\")\n",
        "print(f\"Teste:      {X_test.shape}\")"
      ],
      "metadata": {
        "colab": {
          "base_uri": "https://localhost:8080/"
        },
        "id": "YZRsfnmpcyZA",
        "outputId": "0e32b3c5-bb2e-474c-8dd8-423368bc6a41"
      },
      "execution_count": null,
      "outputs": [
        {
          "output_type": "stream",
          "name": "stdout",
          "text": [
            "Conjuntos gerados:\n",
            "Treino:     (1200, 3)\n",
            "Validação:  (400, 3)\n",
            "Teste:      (400, 3)\n"
          ]
        }
      ]
    },
    {
      "cell_type": "code",
      "source": [
        "!pip install tensorflow\n"
      ],
      "metadata": {
        "colab": {
          "base_uri": "https://localhost:8080/"
        },
        "id": "OV_O62dXde4S",
        "outputId": "f31866cf-2198-4d26-9e65-53511f5df47b"
      },
      "execution_count": null,
      "outputs": [
        {
          "output_type": "stream",
          "name": "stdout",
          "text": [
            "Requirement already satisfied: tensorflow in /usr/local/lib/python3.11/dist-packages (2.18.0)\n",
            "Requirement already satisfied: absl-py>=1.0.0 in /usr/local/lib/python3.11/dist-packages (from tensorflow) (1.4.0)\n",
            "Requirement already satisfied: astunparse>=1.6.0 in /usr/local/lib/python3.11/dist-packages (from tensorflow) (1.6.3)\n",
            "Requirement already satisfied: flatbuffers>=24.3.25 in /usr/local/lib/python3.11/dist-packages (from tensorflow) (25.2.10)\n",
            "Requirement already satisfied: gast!=0.5.0,!=0.5.1,!=0.5.2,>=0.2.1 in /usr/local/lib/python3.11/dist-packages (from tensorflow) (0.6.0)\n",
            "Requirement already satisfied: google-pasta>=0.1.1 in /usr/local/lib/python3.11/dist-packages (from tensorflow) (0.2.0)\n",
            "Requirement already satisfied: libclang>=13.0.0 in /usr/local/lib/python3.11/dist-packages (from tensorflow) (18.1.1)\n",
            "Requirement already satisfied: opt-einsum>=2.3.2 in /usr/local/lib/python3.11/dist-packages (from tensorflow) (3.4.0)\n",
            "Requirement already satisfied: packaging in /usr/local/lib/python3.11/dist-packages (from tensorflow) (24.2)\n",
            "Requirement already satisfied: protobuf!=4.21.0,!=4.21.1,!=4.21.2,!=4.21.3,!=4.21.4,!=4.21.5,<6.0.0dev,>=3.20.3 in /usr/local/lib/python3.11/dist-packages (from tensorflow) (5.29.4)\n",
            "Requirement already satisfied: requests<3,>=2.21.0 in /usr/local/lib/python3.11/dist-packages (from tensorflow) (2.32.3)\n",
            "Requirement already satisfied: setuptools in /usr/local/lib/python3.11/dist-packages (from tensorflow) (75.2.0)\n",
            "Requirement already satisfied: six>=1.12.0 in /usr/local/lib/python3.11/dist-packages (from tensorflow) (1.17.0)\n",
            "Requirement already satisfied: termcolor>=1.1.0 in /usr/local/lib/python3.11/dist-packages (from tensorflow) (3.1.0)\n",
            "Requirement already satisfied: typing-extensions>=3.6.6 in /usr/local/lib/python3.11/dist-packages (from tensorflow) (4.13.2)\n",
            "Requirement already satisfied: wrapt>=1.11.0 in /usr/local/lib/python3.11/dist-packages (from tensorflow) (1.17.2)\n",
            "Requirement already satisfied: grpcio<2.0,>=1.24.3 in /usr/local/lib/python3.11/dist-packages (from tensorflow) (1.71.0)\n",
            "Requirement already satisfied: tensorboard<2.19,>=2.18 in /usr/local/lib/python3.11/dist-packages (from tensorflow) (2.18.0)\n",
            "Requirement already satisfied: keras>=3.5.0 in /usr/local/lib/python3.11/dist-packages (from tensorflow) (3.8.0)\n",
            "Requirement already satisfied: numpy<2.1.0,>=1.26.0 in /usr/local/lib/python3.11/dist-packages (from tensorflow) (2.0.2)\n",
            "Requirement already satisfied: h5py>=3.11.0 in /usr/local/lib/python3.11/dist-packages (from tensorflow) (3.13.0)\n",
            "Requirement already satisfied: ml-dtypes<0.5.0,>=0.4.0 in /usr/local/lib/python3.11/dist-packages (from tensorflow) (0.4.1)\n",
            "Requirement already satisfied: tensorflow-io-gcs-filesystem>=0.23.1 in /usr/local/lib/python3.11/dist-packages (from tensorflow) (0.37.1)\n",
            "Requirement already satisfied: wheel<1.0,>=0.23.0 in /usr/local/lib/python3.11/dist-packages (from astunparse>=1.6.0->tensorflow) (0.45.1)\n",
            "Requirement already satisfied: rich in /usr/local/lib/python3.11/dist-packages (from keras>=3.5.0->tensorflow) (13.9.4)\n",
            "Requirement already satisfied: namex in /usr/local/lib/python3.11/dist-packages (from keras>=3.5.0->tensorflow) (0.0.9)\n",
            "Requirement already satisfied: optree in /usr/local/lib/python3.11/dist-packages (from keras>=3.5.0->tensorflow) (0.15.0)\n",
            "Requirement already satisfied: charset-normalizer<4,>=2 in /usr/local/lib/python3.11/dist-packages (from requests<3,>=2.21.0->tensorflow) (3.4.2)\n",
            "Requirement already satisfied: idna<4,>=2.5 in /usr/local/lib/python3.11/dist-packages (from requests<3,>=2.21.0->tensorflow) (3.10)\n",
            "Requirement already satisfied: urllib3<3,>=1.21.1 in /usr/local/lib/python3.11/dist-packages (from requests<3,>=2.21.0->tensorflow) (2.4.0)\n",
            "Requirement already satisfied: certifi>=2017.4.17 in /usr/local/lib/python3.11/dist-packages (from requests<3,>=2.21.0->tensorflow) (2025.4.26)\n",
            "Requirement already satisfied: markdown>=2.6.8 in /usr/local/lib/python3.11/dist-packages (from tensorboard<2.19,>=2.18->tensorflow) (3.8)\n",
            "Requirement already satisfied: tensorboard-data-server<0.8.0,>=0.7.0 in /usr/local/lib/python3.11/dist-packages (from tensorboard<2.19,>=2.18->tensorflow) (0.7.2)\n",
            "Requirement already satisfied: werkzeug>=1.0.1 in /usr/local/lib/python3.11/dist-packages (from tensorboard<2.19,>=2.18->tensorflow) (3.1.3)\n",
            "Requirement already satisfied: MarkupSafe>=2.1.1 in /usr/local/lib/python3.11/dist-packages (from werkzeug>=1.0.1->tensorboard<2.19,>=2.18->tensorflow) (3.0.2)\n",
            "Requirement already satisfied: markdown-it-py>=2.2.0 in /usr/local/lib/python3.11/dist-packages (from rich->keras>=3.5.0->tensorflow) (3.0.0)\n",
            "Requirement already satisfied: pygments<3.0.0,>=2.13.0 in /usr/local/lib/python3.11/dist-packages (from rich->keras>=3.5.0->tensorflow) (2.19.1)\n",
            "Requirement already satisfied: mdurl~=0.1 in /usr/local/lib/python3.11/dist-packages (from markdown-it-py>=2.2.0->rich->keras>=3.5.0->tensorflow) (0.1.2)\n"
          ]
        }
      ]
    },
    {
      "cell_type": "markdown",
      "source": [
        "4. Instalação do TensorFlow/Keras Tuner"
      ],
      "metadata": {
        "id": "X4g_HoixCXH5"
      }
    },
    {
      "cell_type": "markdown",
      "source": [
        "5. Construção do Modelo"
      ],
      "metadata": {
        "id": "Uoe4CIkmCkzq"
      }
    },
    {
      "cell_type": "code",
      "source": [
        "import tensorflow as tf\n",
        "from tensorflow.keras.models import Sequential\n",
        "from tensorflow.keras.layers import Dense, Dropout, LeakyReLU\n",
        "from tensorflow.keras.regularizers import l2\n",
        "from tensorflow.keras.optimizers import Adam\n",
        "\n",
        "def build_model(activation='relu'):\n",
        "    model = Sequential()\n",
        "\n",
        "    model.add(Dense(64, input_shape=(3,), kernel_regularizer=l2(0.001)))\n",
        "\n",
        "    if activation == 'leaky_relu':\n",
        "        model.add(LeakyReLU(alpha=0.1))\n",
        "    else:\n",
        "        model.add(tf.keras.layers.Activation(activation))\n",
        "\n",
        "    model.add(Dropout(0.3))\n",
        "\n",
        "    model.add(Dense(64, kernel_regularizer=l2(0.001)))\n",
        "\n",
        "    if activation == 'leaky_relu':\n",
        "        model.add(LeakyReLU(alpha=0.1))\n",
        "    else:\n",
        "        model.add(tf.keras.layers.Activation(activation))\n",
        "\n",
        "    model.add(Dropout(0.3))\n",
        "\n",
        "    model.add(Dense(32, kernel_regularizer=l2(0.001)))\n",
        "\n",
        "    if activation == 'leaky_relu':\n",
        "        model.add(LeakyReLU(alpha=0.1))\n",
        "    else:\n",
        "        model.add(tf.keras.layers.Activation(activation))\n",
        "\n",
        "    model.add(Dense(1))  # Saída para regressão\n",
        "\n",
        "    model.compile(optimizer=Adam(learning_rate=0.001), loss='mse', metrics=['mae'])\n",
        "\n",
        "    return model\n"
      ],
      "metadata": {
        "id": "cTgh79Nrdfrd"
      },
      "execution_count": null,
      "outputs": []
    },
    {
      "cell_type": "markdown",
      "source": [
        "6. Treinamento do Modelo"
      ],
      "metadata": {
        "id": "iZ3ZQlQnDb58"
      }
    },
    {
      "cell_type": "code",
      "source": [
        "model_relu = build_model(activation='relu')\n",
        "history_relu = model_relu.fit(\n",
        "    X_train_scaled, y_train,\n",
        "    validation_data=(X_val_scaled, y_val),\n",
        "    epochs=30,\n",
        "    batch_size=32,\n",
        "    verbose=1\n",
        ")\n"
      ],
      "metadata": {
        "colab": {
          "base_uri": "https://localhost:8080/"
        },
        "id": "8SX4EJXedmXP",
        "outputId": "5be21a53-6f02-4e01-a85b-e173217079a9"
      },
      "execution_count": null,
      "outputs": [
        {
          "output_type": "stream",
          "name": "stderr",
          "text": [
            "/usr/local/lib/python3.11/dist-packages/keras/src/layers/core/dense.py:87: UserWarning: Do not pass an `input_shape`/`input_dim` argument to a layer. When using Sequential models, prefer using an `Input(shape)` object as the first layer in the model instead.\n",
            "  super().__init__(activity_regularizer=activity_regularizer, **kwargs)\n"
          ]
        },
        {
          "output_type": "stream",
          "name": "stdout",
          "text": [
            "Epoch 1/30\n",
            "\u001b[1m38/38\u001b[0m \u001b[32m━━━━━━━━━━━━━━━━━━━━\u001b[0m\u001b[37m\u001b[0m \u001b[1m8s\u001b[0m 30ms/step - loss: 2814608.7500 - mae: 682.8174 - val_loss: 1907685.6250 - val_mae: 525.2111\n",
            "Epoch 2/30\n",
            "\u001b[1m38/38\u001b[0m \u001b[32m━━━━━━━━━━━━━━━━━━━━\u001b[0m\u001b[37m\u001b[0m \u001b[1m0s\u001b[0m 11ms/step - loss: 3331498.7500 - mae: 761.6918 - val_loss: 1896560.6250 - val_mae: 522.9587\n",
            "Epoch 3/30\n",
            "\u001b[1m38/38\u001b[0m \u001b[32m━━━━━━━━━━━━━━━━━━━━\u001b[0m\u001b[37m\u001b[0m \u001b[1m1s\u001b[0m 11ms/step - loss: 3076694.0000 - mae: 708.3229 - val_loss: 1839167.6250 - val_mae: 528.0754\n",
            "Epoch 4/30\n",
            "\u001b[1m38/38\u001b[0m \u001b[32m━━━━━━━━━━━━━━━━━━━━\u001b[0m\u001b[37m\u001b[0m \u001b[1m1s\u001b[0m 15ms/step - loss: 2428532.7500 - mae: 641.5324 - val_loss: 1682272.5000 - val_mae: 590.4741\n",
            "Epoch 5/30\n",
            "\u001b[1m38/38\u001b[0m \u001b[32m━━━━━━━━━━━━━━━━━━━━\u001b[0m\u001b[37m\u001b[0m \u001b[1m1s\u001b[0m 16ms/step - loss: 2363516.2500 - mae: 735.0459 - val_loss: 1542209.0000 - val_mae: 716.1616\n",
            "Epoch 6/30\n",
            "\u001b[1m38/38\u001b[0m \u001b[32m━━━━━━━━━━━━━━━━━━━━\u001b[0m\u001b[37m\u001b[0m \u001b[1m1s\u001b[0m 19ms/step - loss: 2300370.2500 - mae: 903.4653 - val_loss: 1514060.0000 - val_mae: 805.1124\n",
            "Epoch 7/30\n",
            "\u001b[1m38/38\u001b[0m \u001b[32m━━━━━━━━━━━━━━━━━━━━\u001b[0m\u001b[37m\u001b[0m \u001b[1m1s\u001b[0m 11ms/step - loss: 1703754.1250 - mae: 849.0297 - val_loss: 1509567.6250 - val_mae: 820.3674\n",
            "Epoch 8/30\n",
            "\u001b[1m38/38\u001b[0m \u001b[32m━━━━━━━━━━━━━━━━━━━━\u001b[0m\u001b[37m\u001b[0m \u001b[1m0s\u001b[0m 7ms/step - loss: 1942569.5000 - mae: 905.0716 - val_loss: 1521010.7500 - val_mae: 837.9470\n",
            "Epoch 9/30\n",
            "\u001b[1m38/38\u001b[0m \u001b[32m━━━━━━━━━━━━━━━━━━━━\u001b[0m\u001b[37m\u001b[0m \u001b[1m0s\u001b[0m 5ms/step - loss: 1946830.0000 - mae: 900.6654 - val_loss: 1512776.1250 - val_mae: 827.4578\n",
            "Epoch 10/30\n",
            "\u001b[1m38/38\u001b[0m \u001b[32m━━━━━━━━━━━━━━━━━━━━\u001b[0m\u001b[37m\u001b[0m \u001b[1m0s\u001b[0m 4ms/step - loss: 2040264.0000 - mae: 926.6982 - val_loss: 1500454.3750 - val_mae: 811.6379\n",
            "Epoch 11/30\n",
            "\u001b[1m38/38\u001b[0m \u001b[32m━━━━━━━━━━━━━━━━━━━━\u001b[0m\u001b[37m\u001b[0m \u001b[1m0s\u001b[0m 4ms/step - loss: 2206397.5000 - mae: 934.9225 - val_loss: 1508371.0000 - val_mae: 820.3066\n",
            "Epoch 12/30\n",
            "\u001b[1m38/38\u001b[0m \u001b[32m━━━━━━━━━━━━━━━━━━━━\u001b[0m\u001b[37m\u001b[0m \u001b[1m0s\u001b[0m 5ms/step - loss: 1821039.6250 - mae: 858.0560 - val_loss: 1491042.5000 - val_mae: 796.7112\n",
            "Epoch 13/30\n",
            "\u001b[1m38/38\u001b[0m \u001b[32m━━━━━━━━━━━━━━━━━━━━\u001b[0m\u001b[37m\u001b[0m \u001b[1m0s\u001b[0m 4ms/step - loss: 1897904.8750 - mae: 881.9662 - val_loss: 1499864.5000 - val_mae: 809.5555\n",
            "Epoch 14/30\n",
            "\u001b[1m38/38\u001b[0m \u001b[32m━━━━━━━━━━━━━━━━━━━━\u001b[0m\u001b[37m\u001b[0m \u001b[1m0s\u001b[0m 5ms/step - loss: 2080350.2500 - mae: 929.0184 - val_loss: 1505807.8750 - val_mae: 816.5745\n",
            "Epoch 15/30\n",
            "\u001b[1m38/38\u001b[0m \u001b[32m━━━━━━━━━━━━━━━━━━━━\u001b[0m\u001b[37m\u001b[0m \u001b[1m0s\u001b[0m 5ms/step - loss: 2010625.6250 - mae: 917.4090 - val_loss: 1489570.1250 - val_mae: 798.2267\n",
            "Epoch 16/30\n",
            "\u001b[1m38/38\u001b[0m \u001b[32m━━━━━━━━━━━━━━━━━━━━\u001b[0m\u001b[37m\u001b[0m \u001b[1m0s\u001b[0m 4ms/step - loss: 2039427.0000 - mae: 895.5595 - val_loss: 1494971.8750 - val_mae: 806.9764\n",
            "Epoch 17/30\n",
            "\u001b[1m38/38\u001b[0m \u001b[32m━━━━━━━━━━━━━━━━━━━━\u001b[0m\u001b[37m\u001b[0m \u001b[1m0s\u001b[0m 4ms/step - loss: 2125151.5000 - mae: 905.8156 - val_loss: 1474370.2500 - val_mae: 783.1855\n",
            "Epoch 18/30\n",
            "\u001b[1m38/38\u001b[0m \u001b[32m━━━━━━━━━━━━━━━━━━━━\u001b[0m\u001b[37m\u001b[0m \u001b[1m0s\u001b[0m 4ms/step - loss: 1863607.1250 - mae: 890.3988 - val_loss: 1470747.8750 - val_mae: 785.6655\n",
            "Epoch 19/30\n",
            "\u001b[1m38/38\u001b[0m \u001b[32m━━━━━━━━━━━━━━━━━━━━\u001b[0m\u001b[37m\u001b[0m \u001b[1m0s\u001b[0m 4ms/step - loss: 2014468.2500 - mae: 892.3675 - val_loss: 1472461.7500 - val_mae: 795.7673\n",
            "Epoch 20/30\n",
            "\u001b[1m38/38\u001b[0m \u001b[32m━━━━━━━━━━━━━━━━━━━━\u001b[0m\u001b[37m\u001b[0m \u001b[1m0s\u001b[0m 5ms/step - loss: 2126154.0000 - mae: 921.8787 - val_loss: 1452165.7500 - val_mae: 781.8170\n",
            "Epoch 21/30\n",
            "\u001b[1m38/38\u001b[0m \u001b[32m━━━━━━━━━━━━━━━━━━━━\u001b[0m\u001b[37m\u001b[0m \u001b[1m0s\u001b[0m 4ms/step - loss: 1738152.3750 - mae: 834.7874 - val_loss: 1427492.3750 - val_mae: 764.2622\n",
            "Epoch 22/30\n",
            "\u001b[1m38/38\u001b[0m \u001b[32m━━━━━━━━━━━━━━━━━━━━\u001b[0m\u001b[37m\u001b[0m \u001b[1m0s\u001b[0m 5ms/step - loss: 2090021.5000 - mae: 893.8008 - val_loss: 1404809.7500 - val_mae: 751.6797\n",
            "Epoch 23/30\n",
            "\u001b[1m38/38\u001b[0m \u001b[32m━━━━━━━━━━━━━━━━━━━━\u001b[0m\u001b[37m\u001b[0m \u001b[1m0s\u001b[0m 5ms/step - loss: 2063082.2500 - mae: 879.4894 - val_loss: 1384032.6250 - val_mae: 746.3728\n",
            "Epoch 24/30\n",
            "\u001b[1m38/38\u001b[0m \u001b[32m━━━━━━━━━━━━━━━━━━━━\u001b[0m\u001b[37m\u001b[0m \u001b[1m0s\u001b[0m 5ms/step - loss: 1842261.2500 - mae: 845.8706 - val_loss: 1351295.3750 - val_mae: 730.7192\n",
            "Epoch 25/30\n",
            "\u001b[1m38/38\u001b[0m \u001b[32m━━━━━━━━━━━━━━━━━━━━\u001b[0m\u001b[37m\u001b[0m \u001b[1m0s\u001b[0m 4ms/step - loss: 1887304.1250 - mae: 851.9199 - val_loss: 1313732.3750 - val_mae: 711.1127\n",
            "Epoch 26/30\n",
            "\u001b[1m38/38\u001b[0m \u001b[32m━━━━━━━━━━━━━━━━━━━━\u001b[0m\u001b[37m\u001b[0m \u001b[1m0s\u001b[0m 5ms/step - loss: 1501841.0000 - mae: 756.9021 - val_loss: 1279413.8750 - val_mae: 701.1970\n",
            "Epoch 27/30\n",
            "\u001b[1m38/38\u001b[0m \u001b[32m━━━━━━━━━━━━━━━━━━━━\u001b[0m\u001b[37m\u001b[0m \u001b[1m0s\u001b[0m 5ms/step - loss: 1690212.3750 - mae: 801.2487 - val_loss: 1223796.5000 - val_mae: 668.8109\n",
            "Epoch 28/30\n",
            "\u001b[1m38/38\u001b[0m \u001b[32m━━━━━━━━━━━━━━━━━━━━\u001b[0m\u001b[37m\u001b[0m \u001b[1m0s\u001b[0m 4ms/step - loss: 1580188.1250 - mae: 765.3886 - val_loss: 1175818.5000 - val_mae: 656.0381\n",
            "Epoch 29/30\n",
            "\u001b[1m38/38\u001b[0m \u001b[32m━━━━━━━━━━━━━━━━━━━━\u001b[0m\u001b[37m\u001b[0m \u001b[1m0s\u001b[0m 4ms/step - loss: 1643132.8750 - mae: 780.5128 - val_loss: 1115139.7500 - val_mae: 630.3444\n",
            "Epoch 30/30\n",
            "\u001b[1m38/38\u001b[0m \u001b[32m━━━━━━━━━━━━━━━━━━━━\u001b[0m\u001b[37m\u001b[0m \u001b[1m0s\u001b[0m 5ms/step - loss: 1499588.3750 - mae: 732.2853 - val_loss: 1053081.0000 - val_mae: 603.9953\n"
          ]
        }
      ]
    },
    {
      "cell_type": "markdown",
      "source": [
        "7. Treinamento e Comparação"
      ],
      "metadata": {
        "id": "M5hGExlDED8Z"
      }
    },
    {
      "cell_type": "code",
      "source": [
        "import tensorflow as tf\n",
        "from tensorflow.keras.models import Sequential\n",
        "from tensorflow.keras.layers import Dense, Dropout, LeakyReLU\n",
        "from tensorflow.keras.regularizers import l2\n",
        "from tensorflow.keras.optimizers import Adam\n",
        "\n",
        "def build_model(activation='relu'):\n",
        "    model = Sequential()\n",
        "\n",
        "    model.add(Dense(64, input_shape=(3,), kernel_regularizer=l2(0.001)))\n",
        "\n",
        "    if activation == 'leaky_relu':\n",
        "        model.add(LeakyReLU(alpha=0.1))\n",
        "    else:\n",
        "        model.add(tf.keras.layers.Activation(activation))\n",
        "\n",
        "    model.add(Dropout(0.3))\n",
        "\n",
        "    model.add(Dense(64, kernel_regularizer=l2(0.001)))\n",
        "\n",
        "    if activation == 'leaky_relu':\n",
        "        model.add(LeakyReLU(alpha=0.1))\n",
        "    else:\n",
        "        model.add(tf.keras.layers.Activation(activation))\n",
        "\n",
        "    model.add(Dropout(0.3))\n",
        "\n",
        "    model.add(Dense(32, kernel_regularizer=l2(0.001)))\n",
        "\n",
        "    if activation == 'leaky_relu':\n",
        "        model.add(LeakyReLU(alpha=0.1))\n",
        "    else:\n",
        "        model.add(tf.keras.layers.Activation(activation))\n",
        "\n",
        "    model.add(Dense(1))  # Saída para regressão\n",
        "\n",
        "    model.compile(optimizer=Adam(learning_rate=0.001), loss='mse', metrics=['mae'])\n",
        "\n",
        "    return model\n"
      ],
      "metadata": {
        "id": "IJFYQh3Pd4p_"
      },
      "execution_count": null,
      "outputs": []
    },
    {
      "cell_type": "code",
      "source": [
        "history_dict = {}\n",
        "\n",
        "for act in ['relu', 'tanh', 'leaky_relu']:\n",
        "    print(f\"Treinando com ativação: {act}\")\n",
        "    model = build_model(activation=act)\n",
        "    history = model.fit(\n",
        "        X_train_scaled, y_train,\n",
        "        validation_data=(X_val_scaled, y_val),\n",
        "        epochs=30,\n",
        "        batch_size=32,\n",
        "        verbose=0  # silencioso\n",
        "    )\n",
        "    history_dict[act] = history\n"
      ],
      "metadata": {
        "colab": {
          "base_uri": "https://localhost:8080/"
        },
        "id": "9xwBDHu4eTFp",
        "outputId": "64042dde-3d38-4f6c-dd86-36e95352befe"
      },
      "execution_count": null,
      "outputs": [
        {
          "output_type": "stream",
          "name": "stdout",
          "text": [
            "Treinando com ativação: relu\n",
            "Treinando com ativação: tanh\n",
            "Treinando com ativação: leaky_relu\n"
          ]
        },
        {
          "output_type": "stream",
          "name": "stderr",
          "text": [
            "/usr/local/lib/python3.11/dist-packages/keras/src/layers/activations/leaky_relu.py:41: UserWarning: Argument `alpha` is deprecated. Use `negative_slope` instead.\n",
            "  warnings.warn(\n"
          ]
        }
      ]
    },
    {
      "cell_type": "markdown",
      "source": [
        "8.Análise dos Resultados"
      ],
      "metadata": {
        "id": "pv7DmUDKERg_"
      }
    },
    {
      "cell_type": "code",
      "source": [
        "import matplotlib.pyplot as plt\n",
        "\n",
        "plt.figure(figsize=(14, 5))\n",
        "\n",
        "# Plot do Loss\n",
        "plt.subplot(1, 2, 1)\n",
        "for act, hist in history_dict.items():\n",
        "    plt.plot(hist.history['loss'], label=f'{act} - treino')\n",
        "    plt.plot(hist.history['val_loss'], linestyle='--', label=f'{act} - validação')\n",
        "plt.title('Comparação do Loss (MSE)')\n",
        "plt.xlabel('Épocas')\n",
        "plt.ylabel('Loss')\n",
        "plt.legend()\n",
        "\n",
        "# Plot do MAE\n",
        "plt.subplot(1, 2, 2)\n",
        "for act, hist in history_dict.items():\n",
        "    plt.plot(hist.history['mae'], label=f'{act} - treino')\n",
        "    plt.plot(hist.history['val_mae'], linestyle='--', label=f'{act} - validação')\n",
        "plt.title('Comparação do MAE')\n",
        "plt.xlabel('Épocas')\n",
        "plt.ylabel('Erro Absoluto Médio')\n",
        "plt.legend()\n",
        "\n",
        "plt.tight_layout()\n",
        "plt.show()\n"
      ],
      "metadata": {
        "colab": {
          "base_uri": "https://localhost:8080/",
          "height": 507
        },
        "id": "PuzeR671eVcY",
        "outputId": "1ea20ffc-6c3b-4080-89d8-bd1500571a02"
      },
      "execution_count": null,
      "outputs": [
        {
          "output_type": "display_data",
          "data": {
            "text/plain": [
              "<Figure size 1400x500 with 2 Axes>"
            ],
            "image/png": "[encoded data removed]"
          },
          "metadata": {}
        }
      ]
    },
    {
      "cell_type": "code",
      "source": [],
      "metadata": {
        "id": "Mgoa5AYF-aDd"
      },
      "execution_count": null,
      "outputs": []
    },
    {
      "cell_type": "code",
      "source": [
        "!pip install -q keras-tuner\n"
      ],
      "metadata": {
        "colab": {
          "base_uri": "https://localhost:8080/"
        },
        "id": "nyF0FHSEfLsf",
        "outputId": "199f26b5-b861-41ed-f563-fccc6395c5d3"
      },
      "execution_count": null,
      "outputs": [
        {
          "output_type": "stream",
          "name": "stdout",
          "text": [
            "\u001b[?25l   \u001b[90m━━━━━━━━━━━━━━━━━━━━━━━━━━━━━━━━━━━━━━━━\u001b[0m \u001b[32m0.0/129.1 kB\u001b[0m \u001b[31m?\u001b[0m eta \u001b[36m-:--:--\u001b[0m\r\u001b[2K   \u001b[91m━━━━━━━━━━━━━━━━━━━━━━━━━━━━━━━━━━━━━━\u001b[0m\u001b[90m╺\u001b[0m\u001b[90m━\u001b[0m \u001b[32m122.9/129.1 kB\u001b[0m \u001b[31m3.9 MB/s\u001b[0m eta \u001b[36m0:00:01\u001b[0m\r\u001b[2K   \u001b[90m━━━━━━━━━━━━━━━━━━━━━━━━━━━━━━━━━━━━━━━━\u001b[0m \u001b[32m129.1/129.1 kB\u001b[0m \u001b[31m2.9 MB/s\u001b[0m eta \u001b[36m0:00:00\u001b[0m\n",
            "\u001b[?25h"
          ]
        }
      ]
    },
    {
      "cell_type": "markdown",
      "source": [
        "9. Definição do Espaço de Hiperparâmetros"
      ],
      "metadata": {
        "id": "kwl2f8_iGpcU"
      }
    },
    {
      "cell_type": "code",
      "source": [
        "import keras_tuner as kt\n",
        "\n",
        "def build_model_hp(hp):\n",
        "    model = tf.keras.Sequential()\n",
        "\n",
        "    # Hiperparâmetros variáveis\n",
        "    neurons_1 = hp.Int('neurons_1', min_value=32, max_value=128, step=32)\n",
        "    neurons_2 = hp.Int('neurons_2', min_value=32, max_value=128, step=32)\n",
        "    neurons_3 = hp.Int('neurons_3', min_value=16, max_value=64, step=16)\n",
        "    activation = hp.Choice('activation', ['relu', 'tanh', 'leaky_relu'])\n",
        "    learning_rate = hp.Choice('lr', [1e-2, 1e-3, 1e-4])\n",
        "    dropout_rate = hp.Float('dropout', 0.2, 0.5, step=0.1)\n",
        "    l2_reg = hp.Float('l2_reg', 1e-4, 1e-2, sampling='log')\n",
        "    optimizer_name = hp.Choice('optimizer', ['adam', 'rmsprop', 'sgd', 'nadam'])\n",
        "\n",
        "    model.add(Dense(neurons_1, input_shape=(3,), kernel_regularizer=l2(l2_reg)))\n",
        "    model.add(LeakyReLU(alpha=0.1) if activation == 'leaky_relu' else tf.keras.layers.Activation(activation))\n",
        "    model.add(Dropout(dropout_rate))\n",
        "\n",
        "    model.add(Dense(neurons_2, kernel_regularizer=l2(l2_reg)))\n",
        "    model.add(LeakyReLU(alpha=0.1) if activation == 'leaky_relu' else tf.keras.layers.Activation(activation))\n",
        "    model.add(Dropout(dropout_rate))\n",
        "\n",
        "    model.add(Dense(neurons_3, kernel_regularizer=l2(l2_reg)))\n",
        "    model.add(LeakyReLU(alpha=0.1) if activation == 'leaky_relu' else tf.keras.layers.Activation(activation))\n",
        "\n",
        "    model.add(Dense(1))  # Saída única\n",
        "\n",
        "    # Escolher otimizador\n",
        "    if optimizer_name == 'adam':\n",
        "        optimizer = tf.keras.optimizers.Adam(learning_rate)\n",
        "    elif optimizer_name == 'rmsprop':\n",
        "        optimizer = tf.keras.optimizers.RMSprop(learning_rate)\n",
        "    elif optimizer_name == 'sgd':\n",
        "        optimizer = tf.keras.optimizers.SGD(learning_rate, momentum=0.9)\n",
        "    elif optimizer_name == 'nadam':\n",
        "        optimizer = tf.keras.optimizers.Nadam(learning_rate)\n",
        "\n",
        "    model.compile(optimizer=optimizer, loss='mse', metrics=['mae'])\n",
        "    return model\n"
      ],
      "metadata": {
        "id": "2-zEEUAifMko"
      },
      "execution_count": null,
      "outputs": []
    },
    {
      "cell_type": "markdown",
      "source": [
        "10.Execução da Busca de Hiperparâmetros"
      ],
      "metadata": {
        "id": "27D8fPhTHHsq"
      }
    },
    {
      "cell_type": "code",
      "source": [
        "tuner = kt.RandomSearch(\n",
        "    build_model_hp,\n",
        "    objective='val_mae',\n",
        "    max_trials=10,\n",
        "    executions_per_trial=1,\n",
        "    directory='my_tuner_dir',\n",
        "    project_name='math_tuner'\n",
        ")\n",
        "\n",
        "tuner.search_space_summary()\n",
        "\n",
        "tuner.search(\n",
        "    X_train_scaled, y_train,\n",
        "    epochs=30,\n",
        "    validation_data=(X_val_scaled, y_val),\n",
        "    batch_size=32,\n",
        "    verbose=1\n",
        ")\n"
      ],
      "metadata": {
        "colab": {
          "base_uri": "https://localhost:8080/"
        },
        "id": "b1Nrec13fRlj",
        "outputId": "01ff9c20-d3b3-4564-d50c-1c24beb70e00"
      },
      "execution_count": null,
      "outputs": [
        {
          "output_type": "stream",
          "name": "stdout",
          "text": [
            "Trial 3 Complete [00h 00m 11s]\n",
            "val_mae: nan\n",
            "\n",
            "Best val_mae So Far: 519.4580688476562\n",
            "Total elapsed time: 00h 00m 45s\n",
            "\n",
            "Search: Running Trial #4\n",
            "\n",
            "Value             |Best Value So Far |Hyperparameter\n",
            "64                |96                |neurons_1\n",
            "128               |128               |neurons_2\n",
            "16                |32                |neurons_3\n",
            "relu              |tanh              |activation\n",
            "0.01              |0.001             |lr\n",
            "0.3               |0.2               |dropout\n",
            "0.0077094         |0.0068054         |l2_reg\n",
            "adam              |nadam             |optimizer\n",
            "\n",
            "Epoch 1/30\n",
            "\u001b[1m38/38\u001b[0m \u001b[32m━━━━━━━━━━━━━━━━━━━━\u001b[0m\u001b[37m\u001b[0m \u001b[1m2s\u001b[0m 12ms/step - loss: 3115477.7500 - mae: 719.1756 - val_loss: 1545437.2500 - val_mae: 812.9026\n",
            "Epoch 2/30\n",
            "\u001b[1m38/38\u001b[0m \u001b[32m━━━━━━━━━━━━━━━━━━━━\u001b[0m\u001b[37m\u001b[0m \u001b[1m0s\u001b[0m 5ms/step - loss: 1874774.8750 - mae: 901.3250 - val_loss: 1519500.3750 - val_mae: 826.8586\n",
            "Epoch 3/30\n",
            "\u001b[1m38/38\u001b[0m \u001b[32m━━━━━━━━━━━━━━━━━━━━\u001b[0m\u001b[37m\u001b[0m \u001b[1m0s\u001b[0m 5ms/step - loss: 2043264.8750 - mae: 891.5602 - val_loss: 1534381.6250 - val_mae: 829.3635\n",
            "Epoch 4/30\n",
            "\u001b[1m38/38\u001b[0m \u001b[32m━━━━━━━━━━━━━━━━━━━━\u001b[0m\u001b[37m\u001b[0m \u001b[1m1s\u001b[0m 19ms/step - loss: 2089364.8750 - mae: 898.6176 - val_loss: 1452769.6250 - val_mae: 735.8323\n",
            "Epoch 5/30\n"
          ]
        },
        {
          "output_type": "stream",
          "name": "stderr",
          "text": [
            "\n",
            "KeyboardInterrupt\n",
            "\n"
          ]
        }
      ]
    },
    {
      "cell_type": "markdown",
      "source": [
        "11.Análise dos Melhores Hiperparâmetros"
      ],
      "metadata": {
        "id": "1us28pWuHt63"
      }
    },
    {
      "cell_type": "code",
      "source": [
        "# Exibir melhores combinações\n",
        "tuner.results_summary()\n",
        "\n",
        "# Recuperar melhor modelo\n",
        "best_model = tuner.get_best_models(num_models=1)[0]\n",
        "\n",
        "# Avaliar no conjunto de teste\n",
        "test_loss, test_mae = best_model.evaluate(X_test_scaled, y_test)\n",
        "print(f'\\nDesempenho no Teste - Loss: {test_loss:.4f} | MAE: {test_mae:.4f}')\n"
      ],
      "metadata": {
        "colab": {
          "base_uri": "https://localhost:8080/"
        },
        "id": "2BhB2rSBfZDn",
        "outputId": "8a1c2061-aa05-4cdc-ef13-836873f94f77"
      },
      "execution_count": null,
      "outputs": [
        {
          "output_type": "stream",
          "name": "stdout",
          "text": [
            "Results summary\n",
            "Results in my_tuner_dir/math_tuner\n",
            "Showing 10 best trials\n",
            "Objective(name=\"val_mae\", direction=\"min\")\n",
            "\n",
            "Trial 00 summary\n",
            "Hyperparameters:\n",
            "neurons_1: 96\n",
            "neurons_2: 128\n",
            "neurons_3: 32\n",
            "activation: tanh\n",
            "lr: 0.001\n",
            "dropout: 0.2\n",
            "l2_reg: 0.006805387698117665\n",
            "optimizer: nadam\n",
            "Score: 519.4580688476562\n",
            "\n",
            "Trial 01 summary\n",
            "Hyperparameters:\n",
            "neurons_1: 96\n",
            "neurons_2: 32\n",
            "neurons_3: 64\n",
            "activation: leaky_relu\n",
            "lr: 0.0001\n",
            "dropout: 0.4\n",
            "l2_reg: 0.0013301017233266828\n",
            "optimizer: nadam\n",
            "Score: 525.2591552734375\n",
            "\n",
            "Trial 02 summary\n",
            "Hyperparameters:\n",
            "neurons_1: 128\n",
            "neurons_2: 96\n",
            "neurons_3: 48\n",
            "activation: leaky_relu\n",
            "lr: 0.01\n",
            "dropout: 0.2\n",
            "l2_reg: 0.00618012909224231\n",
            "optimizer: sgd\n",
            "Score: nan\n",
            "\n",
            "Trial 03 summary\n",
            "Hyperparameters:\n",
            "neurons_1: 64\n",
            "neurons_2: 128\n",
            "neurons_3: 16\n",
            "activation: relu\n",
            "lr: 0.01\n",
            "dropout: 0.30000000000000004\n",
            "l2_reg: 0.007709359697494747\n",
            "optimizer: adam\n"
          ]
        },
        {
          "output_type": "stream",
          "name": "stderr",
          "text": [
            "/usr/local/lib/python3.11/dist-packages/keras/src/saving/saving_lib.py:757: UserWarning: Skipping variable loading for optimizer 'nadam', because it has 2 variables whereas the saved optimizer has 19 variables. \n",
            "  saveable.load_own_variables(weights_store.get(inner_path))\n"
          ]
        },
        {
          "output_type": "stream",
          "name": "stdout",
          "text": [
            "\u001b[1m13/13\u001b[0m \u001b[32m━━━━━━━━━━━━━━━━━━━━\u001b[0m\u001b[37m\u001b[0m \u001b[1m1s\u001b[0m 8ms/step - loss: 2290219.0000 - mae: 657.1937    \n",
            "\n",
            "Desempenho no Teste - Loss: 2194065.5000 | MAE: 590.0538\n"
          ]
        }
      ]
    },
    {
      "cell_type": "code",
      "source": [
        "import os\n",
        "from tensorflow.keras.callbacks import EarlyStopping, ModelCheckpoint, TensorBoard, Callback\n",
        "import datetime\n"
      ],
      "metadata": {
        "id": "gznPSYd5fcKG"
      },
      "execution_count": null,
      "outputs": []
    },
    {
      "cell_type": "code",
      "source": [
        "class MAELogger(Callback):\n",
        "    def on_epoch_end(self, epoch, logs=None):\n",
        "        mae = logs.get('mae')\n",
        "        val_mae = logs.get('val_mae')\n",
        "        print(f\"Época {epoch+1}: MAE = {mae:.4f}, Val_MAE = {val_mae:.4f}\")\n"
      ],
      "metadata": {
        "id": "Wa6DSMizfl5b"
      },
      "execution_count": null,
      "outputs": []
    },
    {
      "cell_type": "code",
      "source": [
        "# Criar pasta para TensorBoard\n",
        "log_dir = os.path.join(\"logs\", \"fit\", datetime.datetime.now().strftime(\"%Y%m%d-%H%M%S\"))\n",
        "\n",
        "# Definir callbacks\n",
        "callbacks = [\n",
        "    EarlyStopping(monitor='val_loss', patience=5, restore_best_weights=True),\n",
        "    ModelCheckpoint('best_model.h5', monitor='val_loss', save_best_only=True),\n",
        "    TensorBoard(log_dir=log_dir, histogram_freq=1),\n",
        "    MAELogger()\n",
        "]\n"
      ],
      "metadata": {
        "id": "BLuuIx6nfnuO"
      },
      "execution_count": null,
      "outputs": []
    },
    {
      "cell_type": "markdown",
      "source": [
        "12.treinar melhor modelo"
      ],
      "metadata": {
        "id": "ROcK0bR5IttM"
      }
    },
    {
      "cell_type": "code",
      "source": [
        "history_cb = best_model.fit(\n",
        "    X_train_scaled, y_train,\n",
        "    validation_data=(X_val_scaled, y_val),\n",
        "    epochs=50,\n",
        "    batch_size=32,\n",
        "    callbacks=callbacks,\n",
        "    verbose=0  # MAELogger cuida da saída\n",
        ")\n"
      ],
      "metadata": {
        "colab": {
          "base_uri": "https://localhost:8080/"
        },
        "id": "4fOnbMPwfq9l",
        "outputId": "f740678c-c9c6-480c-d5e1-5526376616f6"
      },
      "execution_count": null,
      "outputs": [
        {
          "output_type": "stream",
          "name": "stderr",
          "text": [
            "WARNING:absl:You are saving your model as an HDF5 file via `model.save()` or `keras.saving.save_model(model)`. This file format is considered legacy. We recommend using instead the native Keras format, e.g. `model.save('my_model.keras')` or `keras.saving.save_model(model, 'my_model.keras')`. \n"
          ]
        },
        {
          "output_type": "stream",
          "name": "stdout",
          "text": [
            "Época 1: MAE = 670.5704, Val_MAE = 519.4489\n"
          ]
        },
        {
          "output_type": "stream",
          "name": "stderr",
          "text": [
            "WARNING:absl:You are saving your model as an HDF5 file via `model.save()` or `keras.saving.save_model(model)`. This file format is considered legacy. We recommend using instead the native Keras format, e.g. `model.save('my_model.keras')` or `keras.saving.save_model(model, 'my_model.keras')`. \n"
          ]
        },
        {
          "output_type": "stream",
          "name": "stdout",
          "text": [
            "Época 2: MAE = 670.3023, Val_MAE = 519.3141\n"
          ]
        },
        {
          "output_type": "stream",
          "name": "stderr",
          "text": [
            "WARNING:absl:You are saving your model as an HDF5 file via `model.save()` or `keras.saving.save_model(model)`. This file format is considered legacy. We recommend using instead the native Keras format, e.g. `model.save('my_model.keras')` or `keras.saving.save_model(model, 'my_model.keras')`. \n"
          ]
        },
        {
          "output_type": "stream",
          "name": "stdout",
          "text": [
            "Época 3: MAE = 670.1891, Val_MAE = 519.3456\n"
          ]
        },
        {
          "output_type": "stream",
          "name": "stderr",
          "text": [
            "WARNING:absl:You are saving your model as an HDF5 file via `model.save()` or `keras.saving.save_model(model)`. This file format is considered legacy. We recommend using instead the native Keras format, e.g. `model.save('my_model.keras')` or `keras.saving.save_model(model, 'my_model.keras')`. \n"
          ]
        },
        {
          "output_type": "stream",
          "name": "stdout",
          "text": [
            "Época 4: MAE = 669.8751, Val_MAE = 519.1484\n"
          ]
        },
        {
          "output_type": "stream",
          "name": "stderr",
          "text": [
            "WARNING:absl:You are saving your model as an HDF5 file via `model.save()` or `keras.saving.save_model(model)`. This file format is considered legacy. We recommend using instead the native Keras format, e.g. `model.save('my_model.keras')` or `keras.saving.save_model(model, 'my_model.keras')`. \n"
          ]
        },
        {
          "output_type": "stream",
          "name": "stdout",
          "text": [
            "Época 5: MAE = 669.4587, Val_MAE = 519.1560\n"
          ]
        },
        {
          "output_type": "stream",
          "name": "stderr",
          "text": [
            "WARNING:absl:You are saving your model as an HDF5 file via `model.save()` or `keras.saving.save_model(model)`. This file format is considered legacy. We recommend using instead the native Keras format, e.g. `model.save('my_model.keras')` or `keras.saving.save_model(model, 'my_model.keras')`. \n"
          ]
        },
        {
          "output_type": "stream",
          "name": "stdout",
          "text": [
            "Época 6: MAE = 669.3922, Val_MAE = 519.1797\n"
          ]
        },
        {
          "output_type": "stream",
          "name": "stderr",
          "text": [
            "WARNING:absl:You are saving your model as an HDF5 file via `model.save()` or `keras.saving.save_model(model)`. This file format is considered legacy. We recommend using instead the native Keras format, e.g. `model.save('my_model.keras')` or `keras.saving.save_model(model, 'my_model.keras')`. \n"
          ]
        },
        {
          "output_type": "stream",
          "name": "stdout",
          "text": [
            "Época 7: MAE = 669.4822, Val_MAE = 519.1928\n"
          ]
        },
        {
          "output_type": "stream",
          "name": "stderr",
          "text": [
            "WARNING:absl:You are saving your model as an HDF5 file via `model.save()` or `keras.saving.save_model(model)`. This file format is considered legacy. We recommend using instead the native Keras format, e.g. `model.save('my_model.keras')` or `keras.saving.save_model(model, 'my_model.keras')`. \n"
          ]
        },
        {
          "output_type": "stream",
          "name": "stdout",
          "text": [
            "Época 8: MAE = 669.4501, Val_MAE = 519.3476\n"
          ]
        },
        {
          "output_type": "stream",
          "name": "stderr",
          "text": [
            "WARNING:absl:You are saving your model as an HDF5 file via `model.save()` or `keras.saving.save_model(model)`. This file format is considered legacy. We recommend using instead the native Keras format, e.g. `model.save('my_model.keras')` or `keras.saving.save_model(model, 'my_model.keras')`. \n"
          ]
        },
        {
          "output_type": "stream",
          "name": "stdout",
          "text": [
            "Época 9: MAE = 669.0110, Val_MAE = 519.1909\n"
          ]
        },
        {
          "output_type": "stream",
          "name": "stderr",
          "text": [
            "WARNING:absl:You are saving your model as an HDF5 file via `model.save()` or `keras.saving.save_model(model)`. This file format is considered legacy. We recommend using instead the native Keras format, e.g. `model.save('my_model.keras')` or `keras.saving.save_model(model, 'my_model.keras')`. \n"
          ]
        },
        {
          "output_type": "stream",
          "name": "stdout",
          "text": [
            "Época 10: MAE = 669.2307, Val_MAE = 519.1257\n"
          ]
        },
        {
          "output_type": "stream",
          "name": "stderr",
          "text": [
            "WARNING:absl:You are saving your model as an HDF5 file via `model.save()` or `keras.saving.save_model(model)`. This file format is considered legacy. We recommend using instead the native Keras format, e.g. `model.save('my_model.keras')` or `keras.saving.save_model(model, 'my_model.keras')`. \n"
          ]
        },
        {
          "output_type": "stream",
          "name": "stdout",
          "text": [
            "Época 11: MAE = 668.1445, Val_MAE = 515.7909\n"
          ]
        },
        {
          "output_type": "stream",
          "name": "stderr",
          "text": [
            "WARNING:absl:You are saving your model as an HDF5 file via `model.save()` or `keras.saving.save_model(model)`. This file format is considered legacy. We recommend using instead the native Keras format, e.g. `model.save('my_model.keras')` or `keras.saving.save_model(model, 'my_model.keras')`. \n"
          ]
        },
        {
          "output_type": "stream",
          "name": "stdout",
          "text": [
            "Época 12: MAE = 660.0428, Val_MAE = 507.1765\n"
          ]
        },
        {
          "output_type": "stream",
          "name": "stderr",
          "text": [
            "WARNING:absl:You are saving your model as an HDF5 file via `model.save()` or `keras.saving.save_model(model)`. This file format is considered legacy. We recommend using instead the native Keras format, e.g. `model.save('my_model.keras')` or `keras.saving.save_model(model, 'my_model.keras')`. \n"
          ]
        },
        {
          "output_type": "stream",
          "name": "stdout",
          "text": [
            "Época 13: MAE = 657.7980, Val_MAE = 506.7524\n"
          ]
        },
        {
          "output_type": "stream",
          "name": "stderr",
          "text": [
            "WARNING:absl:You are saving your model as an HDF5 file via `model.save()` or `keras.saving.save_model(model)`. This file format is considered legacy. We recommend using instead the native Keras format, e.g. `model.save('my_model.keras')` or `keras.saving.save_model(model, 'my_model.keras')`. \n"
          ]
        },
        {
          "output_type": "stream",
          "name": "stdout",
          "text": [
            "Época 14: MAE = 657.2143, Val_MAE = 506.1152\n"
          ]
        },
        {
          "output_type": "stream",
          "name": "stderr",
          "text": [
            "WARNING:absl:You are saving your model as an HDF5 file via `model.save()` or `keras.saving.save_model(model)`. This file format is considered legacy. We recommend using instead the native Keras format, e.g. `model.save('my_model.keras')` or `keras.saving.save_model(model, 'my_model.keras')`. \n"
          ]
        },
        {
          "output_type": "stream",
          "name": "stdout",
          "text": [
            "Época 15: MAE = 656.8896, Val_MAE = 505.6423\n"
          ]
        },
        {
          "output_type": "stream",
          "name": "stderr",
          "text": [
            "WARNING:absl:You are saving your model as an HDF5 file via `model.save()` or `keras.saving.save_model(model)`. This file format is considered legacy. We recommend using instead the native Keras format, e.g. `model.save('my_model.keras')` or `keras.saving.save_model(model, 'my_model.keras')`. \n"
          ]
        },
        {
          "output_type": "stream",
          "name": "stdout",
          "text": [
            "Época 16: MAE = 656.2894, Val_MAE = 505.7546\n"
          ]
        },
        {
          "output_type": "stream",
          "name": "stderr",
          "text": [
            "WARNING:absl:You are saving your model as an HDF5 file via `model.save()` or `keras.saving.save_model(model)`. This file format is considered legacy. We recommend using instead the native Keras format, e.g. `model.save('my_model.keras')` or `keras.saving.save_model(model, 'my_model.keras')`. \n"
          ]
        },
        {
          "output_type": "stream",
          "name": "stdout",
          "text": [
            "Época 17: MAE = 656.1089, Val_MAE = 505.1035\n"
          ]
        },
        {
          "output_type": "stream",
          "name": "stderr",
          "text": [
            "WARNING:absl:You are saving your model as an HDF5 file via `model.save()` or `keras.saving.save_model(model)`. This file format is considered legacy. We recommend using instead the native Keras format, e.g. `model.save('my_model.keras')` or `keras.saving.save_model(model, 'my_model.keras')`. \n"
          ]
        },
        {
          "output_type": "stream",
          "name": "stdout",
          "text": [
            "Época 18: MAE = 655.4737, Val_MAE = 504.6953\n"
          ]
        },
        {
          "output_type": "stream",
          "name": "stderr",
          "text": [
            "WARNING:absl:You are saving your model as an HDF5 file via `model.save()` or `keras.saving.save_model(model)`. This file format is considered legacy. We recommend using instead the native Keras format, e.g. `model.save('my_model.keras')` or `keras.saving.save_model(model, 'my_model.keras')`. \n"
          ]
        },
        {
          "output_type": "stream",
          "name": "stdout",
          "text": [
            "Época 19: MAE = 655.1902, Val_MAE = 504.5929\n"
          ]
        },
        {
          "output_type": "stream",
          "name": "stderr",
          "text": [
            "WARNING:absl:You are saving your model as an HDF5 file via `model.save()` or `keras.saving.save_model(model)`. This file format is considered legacy. We recommend using instead the native Keras format, e.g. `model.save('my_model.keras')` or `keras.saving.save_model(model, 'my_model.keras')`. \n"
          ]
        },
        {
          "output_type": "stream",
          "name": "stdout",
          "text": [
            "Época 20: MAE = 654.8171, Val_MAE = 504.3638\n"
          ]
        },
        {
          "output_type": "stream",
          "name": "stderr",
          "text": [
            "WARNING:absl:You are saving your model as an HDF5 file via `model.save()` or `keras.saving.save_model(model)`. This file format is considered legacy. We recommend using instead the native Keras format, e.g. `model.save('my_model.keras')` or `keras.saving.save_model(model, 'my_model.keras')`. \n"
          ]
        },
        {
          "output_type": "stream",
          "name": "stdout",
          "text": [
            "Época 21: MAE = 654.4860, Val_MAE = 503.8362\n"
          ]
        },
        {
          "output_type": "stream",
          "name": "stderr",
          "text": [
            "WARNING:absl:You are saving your model as an HDF5 file via `model.save()` or `keras.saving.save_model(model)`. This file format is considered legacy. We recommend using instead the native Keras format, e.g. `model.save('my_model.keras')` or `keras.saving.save_model(model, 'my_model.keras')`. \n"
          ]
        },
        {
          "output_type": "stream",
          "name": "stdout",
          "text": [
            "Época 22: MAE = 654.2881, Val_MAE = 502.9371\n"
          ]
        },
        {
          "output_type": "stream",
          "name": "stderr",
          "text": [
            "WARNING:absl:You are saving your model as an HDF5 file via `model.save()` or `keras.saving.save_model(model)`. This file format is considered legacy. We recommend using instead the native Keras format, e.g. `model.save('my_model.keras')` or `keras.saving.save_model(model, 'my_model.keras')`. \n"
          ]
        },
        {
          "output_type": "stream",
          "name": "stdout",
          "text": [
            "Época 23: MAE = 653.5234, Val_MAE = 502.1438\n"
          ]
        },
        {
          "output_type": "stream",
          "name": "stderr",
          "text": [
            "WARNING:absl:You are saving your model as an HDF5 file via `model.save()` or `keras.saving.save_model(model)`. This file format is considered legacy. We recommend using instead the native Keras format, e.g. `model.save('my_model.keras')` or `keras.saving.save_model(model, 'my_model.keras')`. \n"
          ]
        },
        {
          "output_type": "stream",
          "name": "stdout",
          "text": [
            "Época 24: MAE = 652.9499, Val_MAE = 501.2270\n"
          ]
        },
        {
          "output_type": "stream",
          "name": "stderr",
          "text": [
            "WARNING:absl:You are saving your model as an HDF5 file via `model.save()` or `keras.saving.save_model(model)`. This file format is considered legacy. We recommend using instead the native Keras format, e.g. `model.save('my_model.keras')` or `keras.saving.save_model(model, 'my_model.keras')`. \n"
          ]
        },
        {
          "output_type": "stream",
          "name": "stdout",
          "text": [
            "Época 25: MAE = 651.6703, Val_MAE = 499.8258\n"
          ]
        },
        {
          "output_type": "stream",
          "name": "stderr",
          "text": [
            "WARNING:absl:You are saving your model as an HDF5 file via `model.save()` or `keras.saving.save_model(model)`. This file format is considered legacy. We recommend using instead the native Keras format, e.g. `model.save('my_model.keras')` or `keras.saving.save_model(model, 'my_model.keras')`. \n"
          ]
        },
        {
          "output_type": "stream",
          "name": "stdout",
          "text": [
            "Época 26: MAE = 650.6062, Val_MAE = 498.2544\n"
          ]
        },
        {
          "output_type": "stream",
          "name": "stderr",
          "text": [
            "WARNING:absl:You are saving your model as an HDF5 file via `model.save()` or `keras.saving.save_model(model)`. This file format is considered legacy. We recommend using instead the native Keras format, e.g. `model.save('my_model.keras')` or `keras.saving.save_model(model, 'my_model.keras')`. \n"
          ]
        },
        {
          "output_type": "stream",
          "name": "stdout",
          "text": [
            "Época 27: MAE = 649.0830, Val_MAE = 497.3667\n"
          ]
        },
        {
          "output_type": "stream",
          "name": "stderr",
          "text": [
            "WARNING:absl:You are saving your model as an HDF5 file via `model.save()` or `keras.saving.save_model(model)`. This file format is considered legacy. We recommend using instead the native Keras format, e.g. `model.save('my_model.keras')` or `keras.saving.save_model(model, 'my_model.keras')`. \n"
          ]
        },
        {
          "output_type": "stream",
          "name": "stdout",
          "text": [
            "Época 28: MAE = 647.5125, Val_MAE = 494.1845\n"
          ]
        },
        {
          "output_type": "stream",
          "name": "stderr",
          "text": [
            "WARNING:absl:You are saving your model as an HDF5 file via `model.save()` or `keras.saving.save_model(model)`. This file format is considered legacy. We recommend using instead the native Keras format, e.g. `model.save('my_model.keras')` or `keras.saving.save_model(model, 'my_model.keras')`. \n"
          ]
        },
        {
          "output_type": "stream",
          "name": "stdout",
          "text": [
            "Época 29: MAE = 645.4313, Val_MAE = 492.4961\n"
          ]
        },
        {
          "output_type": "stream",
          "name": "stderr",
          "text": [
            "WARNING:absl:You are saving your model as an HDF5 file via `model.save()` or `keras.saving.save_model(model)`. This file format is considered legacy. We recommend using instead the native Keras format, e.g. `model.save('my_model.keras')` or `keras.saving.save_model(model, 'my_model.keras')`. \n"
          ]
        },
        {
          "output_type": "stream",
          "name": "stdout",
          "text": [
            "Época 30: MAE = 644.4753, Val_MAE = 492.1717\n"
          ]
        },
        {
          "output_type": "stream",
          "name": "stderr",
          "text": [
            "WARNING:absl:You are saving your model as an HDF5 file via `model.save()` or `keras.saving.save_model(model)`. This file format is considered legacy. We recommend using instead the native Keras format, e.g. `model.save('my_model.keras')` or `keras.saving.save_model(model, 'my_model.keras')`. \n"
          ]
        },
        {
          "output_type": "stream",
          "name": "stdout",
          "text": [
            "Época 31: MAE = 643.6429, Val_MAE = 491.7689\n"
          ]
        },
        {
          "output_type": "stream",
          "name": "stderr",
          "text": [
            "WARNING:absl:You are saving your model as an HDF5 file via `model.save()` or `keras.saving.save_model(model)`. This file format is considered legacy. We recommend using instead the native Keras format, e.g. `model.save('my_model.keras')` or `keras.saving.save_model(model, 'my_model.keras')`. \n"
          ]
        },
        {
          "output_type": "stream",
          "name": "stdout",
          "text": [
            "Época 32: MAE = 642.9941, Val_MAE = 490.7226\n"
          ]
        },
        {
          "output_type": "stream",
          "name": "stderr",
          "text": [
            "WARNING:absl:You are saving your model as an HDF5 file via `model.save()` or `keras.saving.save_model(model)`. This file format is considered legacy. We recommend using instead the native Keras format, e.g. `model.save('my_model.keras')` or `keras.saving.save_model(model, 'my_model.keras')`. \n"
          ]
        },
        {
          "output_type": "stream",
          "name": "stdout",
          "text": [
            "Época 33: MAE = 642.2454, Val_MAE = 490.3712\n"
          ]
        },
        {
          "output_type": "stream",
          "name": "stderr",
          "text": [
            "WARNING:absl:You are saving your model as an HDF5 file via `model.save()` or `keras.saving.save_model(model)`. This file format is considered legacy. We recommend using instead the native Keras format, e.g. `model.save('my_model.keras')` or `keras.saving.save_model(model, 'my_model.keras')`. \n"
          ]
        },
        {
          "output_type": "stream",
          "name": "stdout",
          "text": [
            "Época 34: MAE = 641.5535, Val_MAE = 489.6282\n"
          ]
        },
        {
          "output_type": "stream",
          "name": "stderr",
          "text": [
            "WARNING:absl:You are saving your model as an HDF5 file via `model.save()` or `keras.saving.save_model(model)`. This file format is considered legacy. We recommend using instead the native Keras format, e.g. `model.save('my_model.keras')` or `keras.saving.save_model(model, 'my_model.keras')`. \n"
          ]
        },
        {
          "output_type": "stream",
          "name": "stdout",
          "text": [
            "Época 35: MAE = 641.3074, Val_MAE = 489.1893\n"
          ]
        },
        {
          "output_type": "stream",
          "name": "stderr",
          "text": [
            "WARNING:absl:You are saving your model as an HDF5 file via `model.save()` or `keras.saving.save_model(model)`. This file format is considered legacy. We recommend using instead the native Keras format, e.g. `model.save('my_model.keras')` or `keras.saving.save_model(model, 'my_model.keras')`. \n"
          ]
        },
        {
          "output_type": "stream",
          "name": "stdout",
          "text": [
            "Época 36: MAE = 640.5902, Val_MAE = 488.6615\n"
          ]
        },
        {
          "output_type": "stream",
          "name": "stderr",
          "text": [
            "WARNING:absl:You are saving your model as an HDF5 file via `model.save()` or `keras.saving.save_model(model)`. This file format is considered legacy. We recommend using instead the native Keras format, e.g. `model.save('my_model.keras')` or `keras.saving.save_model(model, 'my_model.keras')`. \n"
          ]
        },
        {
          "output_type": "stream",
          "name": "stdout",
          "text": [
            "Época 37: MAE = 640.2423, Val_MAE = 488.0098\n"
          ]
        },
        {
          "output_type": "stream",
          "name": "stderr",
          "text": [
            "WARNING:absl:You are saving your model as an HDF5 file via `model.save()` or `keras.saving.save_model(model)`. This file format is considered legacy. We recommend using instead the native Keras format, e.g. `model.save('my_model.keras')` or `keras.saving.save_model(model, 'my_model.keras')`. \n"
          ]
        },
        {
          "output_type": "stream",
          "name": "stdout",
          "text": [
            "Época 38: MAE = 639.4343, Val_MAE = 487.2892\n"
          ]
        },
        {
          "output_type": "stream",
          "name": "stderr",
          "text": [
            "WARNING:absl:You are saving your model as an HDF5 file via `model.save()` or `keras.saving.save_model(model)`. This file format is considered legacy. We recommend using instead the native Keras format, e.g. `model.save('my_model.keras')` or `keras.saving.save_model(model, 'my_model.keras')`. \n"
          ]
        },
        {
          "output_type": "stream",
          "name": "stdout",
          "text": [
            "Época 39: MAE = 638.7058, Val_MAE = 486.3281\n"
          ]
        },
        {
          "output_type": "stream",
          "name": "stderr",
          "text": [
            "WARNING:absl:You are saving your model as an HDF5 file via `model.save()` or `keras.saving.save_model(model)`. This file format is considered legacy. We recommend using instead the native Keras format, e.g. `model.save('my_model.keras')` or `keras.saving.save_model(model, 'my_model.keras')`. \n"
          ]
        },
        {
          "output_type": "stream",
          "name": "stdout",
          "text": [
            "Época 40: MAE = 637.8314, Val_MAE = 486.0073\n"
          ]
        },
        {
          "output_type": "stream",
          "name": "stderr",
          "text": [
            "WARNING:absl:You are saving your model as an HDF5 file via `model.save()` or `keras.saving.save_model(model)`. This file format is considered legacy. We recommend using instead the native Keras format, e.g. `model.save('my_model.keras')` or `keras.saving.save_model(model, 'my_model.keras')`. \n"
          ]
        },
        {
          "output_type": "stream",
          "name": "stdout",
          "text": [
            "Época 41: MAE = 637.7809, Val_MAE = 485.5686\n"
          ]
        },
        {
          "output_type": "stream",
          "name": "stderr",
          "text": [
            "WARNING:absl:You are saving your model as an HDF5 file via `model.save()` or `keras.saving.save_model(model)`. This file format is considered legacy. We recommend using instead the native Keras format, e.g. `model.save('my_model.keras')` or `keras.saving.save_model(model, 'my_model.keras')`. \n"
          ]
        },
        {
          "output_type": "stream",
          "name": "stdout",
          "text": [
            "Época 42: MAE = 637.2100, Val_MAE = 485.2155\n"
          ]
        },
        {
          "output_type": "stream",
          "name": "stderr",
          "text": [
            "WARNING:absl:You are saving your model as an HDF5 file via `model.save()` or `keras.saving.save_model(model)`. This file format is considered legacy. We recommend using instead the native Keras format, e.g. `model.save('my_model.keras')` or `keras.saving.save_model(model, 'my_model.keras')`. \n"
          ]
        },
        {
          "output_type": "stream",
          "name": "stdout",
          "text": [
            "Época 43: MAE = 636.5986, Val_MAE = 484.6260\n"
          ]
        },
        {
          "output_type": "stream",
          "name": "stderr",
          "text": [
            "WARNING:absl:You are saving your model as an HDF5 file via `model.save()` or `keras.saving.save_model(model)`. This file format is considered legacy. We recommend using instead the native Keras format, e.g. `model.save('my_model.keras')` or `keras.saving.save_model(model, 'my_model.keras')`. \n"
          ]
        },
        {
          "output_type": "stream",
          "name": "stdout",
          "text": [
            "Época 44: MAE = 636.2906, Val_MAE = 484.1950\n"
          ]
        },
        {
          "output_type": "stream",
          "name": "stderr",
          "text": [
            "WARNING:absl:You are saving your model as an HDF5 file via `model.save()` or `keras.saving.save_model(model)`. This file format is considered legacy. We recommend using instead the native Keras format, e.g. `model.save('my_model.keras')` or `keras.saving.save_model(model, 'my_model.keras')`. \n"
          ]
        },
        {
          "output_type": "stream",
          "name": "stdout",
          "text": [
            "Época 45: MAE = 635.9723, Val_MAE = 483.8629\n"
          ]
        },
        {
          "output_type": "stream",
          "name": "stderr",
          "text": [
            "WARNING:absl:You are saving your model as an HDF5 file via `model.save()` or `keras.saving.save_model(model)`. This file format is considered legacy. We recommend using instead the native Keras format, e.g. `model.save('my_model.keras')` or `keras.saving.save_model(model, 'my_model.keras')`. \n"
          ]
        },
        {
          "output_type": "stream",
          "name": "stdout",
          "text": [
            "Época 46: MAE = 635.3805, Val_MAE = 483.3853\n"
          ]
        },
        {
          "output_type": "stream",
          "name": "stderr",
          "text": [
            "WARNING:absl:You are saving your model as an HDF5 file via `model.save()` or `keras.saving.save_model(model)`. This file format is considered legacy. We recommend using instead the native Keras format, e.g. `model.save('my_model.keras')` or `keras.saving.save_model(model, 'my_model.keras')`. \n"
          ]
        },
        {
          "output_type": "stream",
          "name": "stdout",
          "text": [
            "Época 47: MAE = 635.0419, Val_MAE = 483.3212\n"
          ]
        },
        {
          "output_type": "stream",
          "name": "stderr",
          "text": [
            "WARNING:absl:You are saving your model as an HDF5 file via `model.save()` or `keras.saving.save_model(model)`. This file format is considered legacy. We recommend using instead the native Keras format, e.g. `model.save('my_model.keras')` or `keras.saving.save_model(model, 'my_model.keras')`. \n"
          ]
        },
        {
          "output_type": "stream",
          "name": "stdout",
          "text": [
            "Época 48: MAE = 634.5319, Val_MAE = 482.6856\n"
          ]
        },
        {
          "output_type": "stream",
          "name": "stderr",
          "text": [
            "WARNING:absl:You are saving your model as an HDF5 file via `model.save()` or `keras.saving.save_model(model)`. This file format is considered legacy. We recommend using instead the native Keras format, e.g. `model.save('my_model.keras')` or `keras.saving.save_model(model, 'my_model.keras')`. \n"
          ]
        },
        {
          "output_type": "stream",
          "name": "stdout",
          "text": [
            "Época 49: MAE = 633.9968, Val_MAE = 482.0020\n"
          ]
        },
        {
          "output_type": "stream",
          "name": "stderr",
          "text": [
            "WARNING:absl:You are saving your model as an HDF5 file via `model.save()` or `keras.saving.save_model(model)`. This file format is considered legacy. We recommend using instead the native Keras format, e.g. `model.save('my_model.keras')` or `keras.saving.save_model(model, 'my_model.keras')`. \n"
          ]
        },
        {
          "output_type": "stream",
          "name": "stdout",
          "text": [
            "Época 50: MAE = 633.6412, Val_MAE = 481.4756\n"
          ]
        }
      ]
    },
    {
      "cell_type": "code",
      "source": [
        "test_loss, test_mae = best_model.evaluate(X_test_scaled, y_test)\n",
        "print(f'\\n📌 Desempenho no Teste — Loss: {test_loss:.4f} | MAE: {test_mae:.4f}')\n"
      ],
      "metadata": {
        "colab": {
          "base_uri": "https://localhost:8080/"
        },
        "id": "b9PsB7amf7oM",
        "outputId": "9edb4282-f7dc-4f09-82d2-78dedb7ecf9e"
      },
      "execution_count": null,
      "outputs": [
        {
          "output_type": "stream",
          "name": "stdout",
          "text": [
            "\u001b[1m13/13\u001b[0m \u001b[32m━━━━━━━━━━━━━━━━━━━━\u001b[0m\u001b[37m\u001b[0m \u001b[1m0s\u001b[0m 3ms/step - loss: 2217955.2500 - mae: 617.8387  \n",
            "\n",
            "📌 Desempenho no Teste — Loss: 2129532.5000 | MAE: 551.0555\n"
          ]
        }
      ]
    },
    {
      "cell_type": "code",
      "source": [
        "import numpy as np\n",
        "\n",
        "# Testes com novos dados\n",
        "novos_dados = np.array([\n",
        "    [8, -4, 1],    # 8 / -4\n",
        "    [-6, 3, 0],    # -6 + 3\n",
        "    [7, 0, 1],     # 7 / 0 → tratar\n",
        "    [4.5, 2.2, 2], # 4.5 * 2.2\n",
        "])\n",
        "\n",
        "# Tratamento para evitar divisão por zero\n",
        "for i, row in enumerate(novos_dados):\n",
        "    if row[2] == 1 and row[1] == 0:  # operação de divisão por zero\n",
        "        print(f'⚠️ Entrada {i} contém divisão por zero. Ajustando para 0.0001')\n",
        "        novos_dados[i][1] = 0.0001\n",
        "\n",
        "# Normalizar os dados\n",
        "novos_dados_scaled = scaler.transform(novos_dados)\n",
        "\n",
        "# Previsão\n",
        "predicoes = best_model.predict(novos_dados_scaled)\n",
        "print(\"\\n🧮 Resultados em novos dados:\")\n",
        "for entrada, resultado in zip(novos_dados, predicoes):\n",
        "    print(f\"Entrada: {entrada} → Resultado previsto: {resultado[0]:.2f}\")\n"
      ],
      "metadata": {
        "colab": {
          "base_uri": "https://localhost:8080/"
        },
        "id": "ysWXI9B3gGrK",
        "outputId": "ff3f765f-59e0-4c98-bed2-6ffe5820c9be"
      },
      "execution_count": null,
      "outputs": [
        {
          "output_type": "stream",
          "name": "stdout",
          "text": [
            "⚠️ Entrada 2 contém divisão por zero. Ajustando para 0.0001\n",
            "\u001b[1m1/1\u001b[0m \u001b[32m━━━━━━━━━━━━━━━━━━━━\u001b[0m\u001b[37m\u001b[0m \u001b[1m0s\u001b[0m 87ms/step\n",
            "\n",
            "🧮 Resultados em novos dados:\n",
            "Entrada: [ 8. -4.  1.] → Resultado previsto: 7.94\n",
            "Entrada: [-6.  3.  0.] → Resultado previsto: 17.99\n",
            "Entrada: [7.e+00 1.e-04 1.e+00] → Resultado previsto: 7.76\n",
            "Entrada: [4.5 2.2 2. ] → Resultado previsto: 80.22\n"
          ]
        }
      ]
    },
    {
      "cell_type": "code",
      "source": [
        "import matplotlib.pyplot as plt\n",
        "\n",
        "plt.figure(figsize=(10, 5))\n",
        "plt.plot(history_cb.history['loss'], label='Loss - Treino')\n",
        "plt.plot(history_cb.history['val_loss'], label='Loss - Validação')\n",
        "plt.xlabel('Épocas')\n",
        "plt.ylabel('Loss (MSE)')\n",
        "plt.title('Evolução do Erro (Loss)')\n",
        "plt.legend()\n",
        "plt.grid(True)\n",
        "plt.show()\n"
      ],
      "metadata": {
        "colab": {
          "base_uri": "https://localhost:8080/",
          "height": 489
        },
        "id": "7RIcP2lKgHvP",
        "outputId": "fb5e8ec3-4bf2-44d7-df62-61a3eaaf3331"
      },
      "execution_count": null,
      "outputs": [
        {
          "output_type": "display_data",
          "data": {
            "text/plain": [
              "<Figure size 1000x500 with 1 Axes>"
            ],
            "image/png": "[encoded data removed]"
          },
          "metadata": {}
        }
      ]
    }
  ]
}